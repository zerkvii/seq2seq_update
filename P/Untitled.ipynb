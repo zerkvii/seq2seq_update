{
 "cells": [
  {
   "cell_type": "code",
   "execution_count": 1,
   "id": "10746752-b073-40ee-a1fe-e84320b284c9",
   "metadata": {},
   "outputs": [],
   "source": [
    "DC=[(1,'India'),(2,'China')]"
   ]
  },
  {
   "cell_type": "code",
   "execution_count": 2,
   "id": "bc3790c9-2407-4f74-8978-a88e14a327c0",
   "metadata": {},
   "outputs": [
    {
     "data": {
      "text/plain": [
       "[(1, 'India'), (2, 'China')]"
      ]
     },
     "execution_count": 2,
     "metadata": {},
     "output_type": "execute_result"
    }
   ],
   "source": [
    "DC"
   ]
  },
  {
   "cell_type": "code",
   "execution_count": 17,
   "id": "58a062c1-0466-476c-9484-6f36dda5429b",
   "metadata": {},
   "outputs": [],
   "source": [
    "def f(n,m):\n",
    "    '''a'''\n",
    "    return n,m\n"
   ]
  },
  {
   "cell_type": "code",
   "execution_count": 20,
   "id": "1427ead8-f57f-47a4-be3d-ec73a838bb15",
   "metadata": {},
   "outputs": [
    {
     "data": {
      "text/plain": [
       "(1, 2)"
      ]
     },
     "execution_count": 20,
     "metadata": {},
     "output_type": "execute_result"
    }
   ],
   "source": [
    "f(1,2)"
   ]
  },
  {
   "cell_type": "code",
   "execution_count": 9,
   "id": "bc7332eb-7c8e-4195-9d22-530a032f3248",
   "metadata": {},
   "outputs": [
    {
     "data": {
      "text/plain": [
       "'a'"
      ]
     },
     "execution_count": 9,
     "metadata": {},
     "output_type": "execute_result"
    }
   ],
   "source": [
    "f.__doc__\n"
   ]
  },
  {
   "cell_type": "code",
   "execution_count": 10,
   "id": "04338aa5-2dc4-4b6f-adc6-8ec15ee04571",
   "metadata": {},
   "outputs": [
    {
     "data": {
      "text/plain": [
       "function"
      ]
     },
     "execution_count": 10,
     "metadata": {},
     "output_type": "execute_result"
    }
   ],
   "source": [
    "type(f)"
   ]
  },
  {
   "cell_type": "code",
   "execution_count": 11,
   "id": "5d34c930-da1e-410c-aaa5-d74003757514",
   "metadata": {},
   "outputs": [
    {
     "data": {
      "text/plain": [
       "<function __main__.f(n)>"
      ]
     },
     "execution_count": 11,
     "metadata": {},
     "output_type": "execute_result"
    }
   ],
   "source": [
    "ff=f\n",
    "ff"
   ]
  },
  {
   "cell_type": "code",
   "execution_count": 14,
   "id": "78838c39-f1ba-4d29-90dd-904dd63bbcef",
   "metadata": {},
   "outputs": [
    {
     "data": {
      "text/plain": [
       "5"
      ]
     },
     "execution_count": 14,
     "metadata": {},
     "output_type": "execute_result"
    }
   ],
   "source": [
    "ff(5)"
   ]
  },
  {
   "cell_type": "code",
   "execution_count": 21,
   "id": "a9af12a7-88c8-4565-af30-ba1b1335dd44",
   "metadata": {},
   "outputs": [
    {
     "data": {
      "text/plain": [
       "[(1, 3), (2, 4)]"
      ]
     },
     "execution_count": 21,
     "metadata": {},
     "output_type": "execute_result"
    }
   ],
   "source": [
    "list(map(f,(1,2),(3,4)))"
   ]
  },
  {
   "cell_type": "code",
   "execution_count": null,
   "id": "ebda0266-69f9-4ca1-a682-01b406129656",
   "metadata": {},
   "outputs": [],
   "source": []
  }
 ],
 "metadata": {
  "kernelspec": {
   "display_name": "Python 3 (ipykernel)",
   "language": "python",
   "name": "python3"
  },
  "language_info": {
   "codemirror_mode": {
    "name": "ipython",
    "version": 3
   },
   "file_extension": ".py",
   "mimetype": "text/x-python",
   "name": "python",
   "nbconvert_exporter": "python",
   "pygments_lexer": "ipython3",
   "version": "3.10.4"
  }
 },
 "nbformat": 4,
 "nbformat_minor": 5
}
